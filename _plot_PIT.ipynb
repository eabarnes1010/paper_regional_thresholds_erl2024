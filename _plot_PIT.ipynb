{
 "cells": [
  {
   "attachments": {},
   "cell_type": "markdown",
   "id": "6da79c16-eb43-4664-a883-7a31f3af00da",
   "metadata": {
    "id": "4a650402-4774-49cb-9b72-9c8f1dd02f1d",
    "tags": []
   },
   "source": [
    "# Probability Integral Transform\n",
    "##### authors: Elizabeth A. Barnes"
   ]
  },
  {
   "attachments": {},
   "cell_type": "markdown",
   "id": "7ccff821-b304-4009-8fe8-75a213b3f421",
   "metadata": {
    "tags": []
   },
   "source": [
    "## Python stuff"
   ]
  },
  {
   "cell_type": "code",
   "execution_count": null,
   "id": "fb968382-4186-466e-a85b-b00caa5fc9be",
   "metadata": {
    "colab": {
     "base_uri": "https://localhost:8080/"
    },
    "executionInfo": {
     "elapsed": 17642,
     "status": "ok",
     "timestamp": 1646449680995,
     "user": {
      "displayName": "Elizabeth Barnes",
      "photoUrl": "https://lh3.googleusercontent.com/a-/AOh14GiNPVVIWP6XAkP_hwu-8rAxoeeNuk2BMkX5-yuA=s64",
      "userId": "07585723222468022011"
     },
     "user_tz": 420
    },
    "id": "fb968382-4186-466e-a85b-b00caa5fc9be",
    "outputId": "d7964af9-2d52-4466-902d-9b85faba9a91",
    "tags": []
   },
   "outputs": [],
   "source": [
    "import sys, os, copy\n",
    "import importlib as imp\n",
    "\n",
    "import xarray as xr\n",
    "import numpy as np\n",
    "import pandas as pd\n",
    "import matplotlib.pyplot as plt\n",
    "import tensorflow as tf\n",
    "import tensorflow_probability as tfp\n",
    "\n",
    "import scipy.stats as stats\n",
    "import seaborn as sns\n",
    "import custom_metrics\n",
    "\n",
    "import shap\n",
    "from scipy.optimize import curve_fit\n",
    "import gc\n",
    "import plots\n",
    "import regions\n",
    "\n",
    "import regionmask\n",
    "import experiment_settings\n",
    "import file_methods, plots, data_processing, transfer_learning, xai\n",
    "\n",
    "import matplotlib as mpl\n",
    "import cartopy as ct\n",
    "import cartopy.feature as cfeature\n",
    "\n",
    "mpl.rcParams[\"figure.facecolor\"] = \"white\"\n",
    "mpl.rcParams[\"figure.dpi\"] = 150\n",
    "savefig_dpi = 300\n",
    "# plt.style.use(\"seaborn-notebook\")\n",
    "plt.style.use(\"seaborn-v0_8-notebook\")\n",
    "\n",
    "import warnings\n",
    "\n",
    "warnings.filterwarnings(\"ignore\")\n",
    "os.environ[\"TF_CPP_MIN_LOG_LEVEL\"] = \"3\""
   ]
  },
  {
   "cell_type": "code",
   "execution_count": null,
   "id": "cff3a2d5",
   "metadata": {},
   "outputs": [],
   "source": [
    "print(f\"python version = {sys.version}\")\n",
    "print(f\"numpy version = {np.__version__}\")\n",
    "print(f\"xarray version = {xr.__version__}\")\n",
    "print(f\"tensorflow version = {tf.__version__}\")\n",
    "print(f\"tensorflow-probability version = {tfp.__version__}\")\n",
    "print(f\"shap version = {shap.__version__}\")"
   ]
  },
  {
   "attachments": {},
   "cell_type": "markdown",
   "id": "651315ce-eecc-4d30-8b90-c97d08936315",
   "metadata": {
    "tags": []
   },
   "source": [
    "## User Choices"
   ]
  },
  {
   "cell_type": "code",
   "execution_count": null,
   "id": "c83a544f-ef35-417f-bec4-62225d885014",
   "metadata": {},
   "outputs": [],
   "source": [
    "PARENT_EXP_NAME = \"exp134\"\n",
    "# PARENT_EXP_NAME = \"exp082\"\n",
    "RNG_SEED = 66\n",
    "ipcc_region = \"SAH\"\n",
    "\n",
    "# -------------------------------------------------------\n",
    "\n",
    "settings = experiment_settings.get_settings(PARENT_EXP_NAME)\n",
    "settings[\"target_temp\"] = None\n",
    "settings[\"rng_seed\"] = RNG_SEED\n",
    "settings[\"target_region\"] = \"ipcc_\" + ipcc_region\n",
    "settings[\"exp_name\"] = PARENT_EXP_NAME + \"_\" + ipcc_region\n",
    "\n",
    "# -------------------------------------------------------\n",
    "\n",
    "MODEL_DIRECTORY = \"saved_models/\"\n",
    "PREDICTIONS_DIRECTORY = \"saved_predictions/\"\n",
    "DATA_DIRECTORY = (\n",
    "    \"../../../2022/target_temp_detection/data/\"  # point to where your data is sitting\n",
    ")\n",
    "GCM_DATA_DIRECTORY = \"../data/\"\n",
    "OBS_DIRECTORY = \"../data/\"\n",
    "DIAGNOSTICS_DIRECTORY = \"model_diagnostics/\"\n",
    "FIGURE_DIRECTORY = \"figures/\""
   ]
  },
  {
   "cell_type": "code",
   "execution_count": null,
   "id": "98363e80",
   "metadata": {},
   "outputs": [],
   "source": [
    "# raise ValueError()"
   ]
  },
  {
   "cell_type": "code",
   "execution_count": null,
   "id": "3d8eb615",
   "metadata": {},
   "outputs": [],
   "source": [
    "\n",
    "(\n",
    "    __,\n",
    "    x_val,\n",
    "    x_test,\n",
    "    __,\n",
    "    __,\n",
    "    __,\n",
    "    __,\n",
    "    onehot_val,\n",
    "    onehot_test,\n",
    "    __,\n",
    "    __,\n",
    "    y_yrs_test,\n",
    "    __,\n",
    "    target_temps_val,\n",
    "    target_temps_test,\n",
    "    target_years_region,\n",
    "    map_shape,\n",
    "    __,\n",
    ") = data_processing.create_data(DATA_DIRECTORY, settings.copy(), verbose=0)\n",
    "\n",
    "tf.keras.backend.clear_session()\n",
    "tf.keras.utils.set_random_seed(settings[\"rng_seed\"])\n",
    "\n",
    "model_name = file_methods.get_model_name(settings)\n",
    "model = file_methods.load_tf_model(model_name, MODEL_DIRECTORY)\n",
    "print(model_name)"
   ]
  },
  {
   "cell_type": "code",
   "execution_count": null,
   "id": "8533ed2f",
   "metadata": {},
   "outputs": [],
   "source": [
    "# concatenate validation and testing data for PIT calculation\n",
    "x_data = np.concatenate((x_val, x_test), axis=0)\n",
    "target_temps_data = np.concatenate((target_temps_val, target_temps_test), axis=0)\n",
    "onehot_data = np.concatenate((onehot_val, onehot_test), axis=0)\n",
    "print(f\"{onehot_data.shape = }\")\n",
    "\n",
    "# make model predictions on the validation and testing data\n",
    "p = model.predict((x_data, target_temps_data), verbose=None)\n",
    "__ = gc.collect()\n",
    "\n",
    "# compute PIT\n",
    "bins, hist_shash, D_shash, EDp_shash = custom_metrics.compute_pit(onehot_data, p)"
   ]
  },
  {
   "cell_type": "code",
   "execution_count": null,
   "id": "b743908a",
   "metadata": {},
   "outputs": [],
   "source": [
    "plt.figure(figsize=(8,5))\n",
    "ax = plt.subplot(1,1,1)\n",
    "clr_shash = \"tab:purple\"\n",
    "bins_inc = bins[1] - bins[0]\n",
    "\n",
    "bin_add = bins_inc / 2\n",
    "bin_width = bins_inc * 0.98\n",
    "ax.bar(\n",
    "    hist_shash[1][:-1] + bin_add,\n",
    "    hist_shash[0],\n",
    "    width=bin_width,\n",
    "    color=clr_shash,\n",
    "    label=\"SHASH\",\n",
    ")\n",
    "\n",
    "# make the figure pretty\n",
    "ax.axhline(\n",
    "    y=0.1,\n",
    "    linestyle=\"--\",\n",
    "    color=\"k\",\n",
    "    linewidth=2.0,\n",
    ")\n",
    "# ax = plt.gca()\n",
    "yticks = np.around(np.arange(0, 0.55, 0.05), 2)\n",
    "plt.yticks(yticks, yticks)\n",
    "ax.set_ylim(0, 0.25)\n",
    "ax.set_xticks(bins, np.around(bins, 1))\n",
    "\n",
    "plt.text(\n",
    "    0.0,\n",
    "    np.max(ax.get_ylim()) * 0.99,\n",
    "    \"D statistic: \"\n",
    "    + str(np.round(D_shash, 4))\n",
    "    + \" (\"\n",
    "    + str(np.round(EDp_shash, 3))\n",
    "    + \")\",\n",
    "    color=clr_shash,\n",
    "    verticalalignment=\"top\",\n",
    "    fontsize=12,\n",
    ")\n",
    "\n",
    "ax.set_xlabel(\"probability integral transform\")\n",
    "ax.set_ylabel(\"probability\")\n",
    "plt.title(ipcc_region, fontsize=12, color='k')\n",
    "\n",
    "plots.savefig(\n",
    "    FIGURE_DIRECTORY\n",
    "    + model_name\n",
    "    + \"_pit\",\n",
    "    dpi=savefig_dpi,\n",
    ")\n",
    "\n",
    "plt.show()"
   ]
  },
  {
   "cell_type": "code",
   "execution_count": null,
   "id": "461c5ad9",
   "metadata": {},
   "outputs": [],
   "source": [
    "raise ValueError()"
   ]
  },
  {
   "cell_type": "markdown",
   "id": "72ba6619",
   "metadata": {},
   "source": [
    "## Loop through experiments to compute PIT"
   ]
  },
  {
   "cell_type": "code",
   "execution_count": null,
   "id": "bd19d90e",
   "metadata": {},
   "outputs": [],
   "source": [
    "IPCC_REGION_LIST = regionmask.defined_regions.ar6.land.abbrevs\n",
    "EXP_NAME_LIST = (\"exp134\", \"exp082\")\n",
    "\n",
    "pitd_dict = {}\n",
    "for exp in EXP_NAME_LIST:\n",
    "    pitd_dict[exp] = np.zeros(len(IPCC_REGION_LIST)) * np.nan\n",
    "\n",
    "for ireg, ipcc_region in enumerate(IPCC_REGION_LIST):\n",
    "    # if ipcc_region not in (\"WCE\", \"CNA\", \"SAH\", \"ESB\", \"NSA\", \"CAU\"):\n",
    "    #     continue\n",
    "\n",
    "    settings[\"target_region\"] = \"ipcc_\" + ipcc_region\n",
    "\n",
    "    (\n",
    "        __,\n",
    "        x_val,\n",
    "        x_test,\n",
    "        __,\n",
    "        __,\n",
    "        __,\n",
    "        __,\n",
    "        onehot_val,\n",
    "        onehot_test,\n",
    "        __,\n",
    "        __,\n",
    "        y_yrs_test,\n",
    "        __,\n",
    "        target_temps_val,\n",
    "        target_temps_test,\n",
    "        target_years_region,\n",
    "        map_shape,\n",
    "        __,\n",
    "    ) = data_processing.create_data(DATA_DIRECTORY, settings.copy(), verbose=0)\n",
    "\n",
    "    for PARENT_EXP_NAME in EXP_NAME_LIST:\n",
    "        settings[\"exp_name\"] = PARENT_EXP_NAME + \"_\" + ipcc_region\n",
    "\n",
    "        tf.keras.backend.clear_session()\n",
    "        tf.keras.utils.set_random_seed(settings[\"rng_seed\"])\n",
    "\n",
    "        model_name = file_methods.get_model_name(settings)\n",
    "        model = file_methods.load_tf_model(model_name, MODEL_DIRECTORY)\n",
    "        print(model_name)\n",
    "\n",
    "        # concatenate validation and testing data for PIT calculation\n",
    "        x_data = np.concatenate((x_val, x_test), axis=0)\n",
    "        target_temps_data = np.concatenate((target_temps_val, target_temps_test), axis=0)\n",
    "        onehot_data = np.concatenate((onehot_val, onehot_test), axis=0)\n",
    "        print(f\"{onehot_data.shape = }\")\n",
    "\n",
    "        # make model predictions on the validation and testing data\n",
    "        p = model.predict((x_data, target_temps_data), verbose=None)\n",
    "        __ = gc.collect()\n",
    "\n",
    "        # compute PIT\n",
    "        bins, hist_shash, D_shash, EDp_shash = custom_metrics.compute_pit(onehot_data, p)\n",
    "\n",
    "        # put value in dictionary\n",
    "        pitd_dict[PARENT_EXP_NAME][ireg] = D_shash\n",
    "\n",
    "print(\"done.\")"
   ]
  },
  {
   "cell_type": "code",
   "execution_count": null,
   "id": "0ccd9ee0",
   "metadata": {},
   "outputs": [],
   "source": [
    "bins = np.arange(0,0.04, .0025)\n",
    "\n",
    "for exp in EXP_NAME_LIST:\n",
    "    plt.hist(pitd_dict[exp], bins, histtype=\"step\", linewidth=3, alpha=.5, label=exp, density=False)\n",
    "plt.legend()\n",
    "plt.yticks(range(19))\n",
    "plt.xlabel(\"PIT D statistic\")\n",
    "plt.ylabel(\"count\")\n",
    "\n",
    "plots.savefig(\n",
    "    FIGURE_DIRECTORY\n",
    "    + \"compare_pitd_across_experiments\"\n",
    "    + \"_rng_seed\" + str(settings[\"rng_seed\"]),\n",
    "    dpi=savefig_dpi,\n",
    ")\n",
    "plt.show()"
   ]
  },
  {
   "cell_type": "code",
   "execution_count": null,
   "id": "16fe94fa",
   "metadata": {},
   "outputs": [],
   "source": []
  }
 ],
 "metadata": {
  "colab": {
   "collapsed_sections": [],
   "name": "_main.ipynb",
   "provenance": []
  },
  "kernelspec": {
   "display_name": "Python 3 (ipykernel)",
   "language": "python",
   "name": "python3"
  },
  "language_info": {
   "codemirror_mode": {
    "name": "ipython",
    "version": 3
   },
   "file_extension": ".py",
   "mimetype": "text/x-python",
   "name": "python",
   "nbconvert_exporter": "python",
   "pygments_lexer": "ipython3",
   "version": "3.10.10"
  }
 },
 "nbformat": 4,
 "nbformat_minor": 5
}
